{
 "cells": [
  {
   "cell_type": "markdown",
   "metadata": {},
   "source": [
    "## State of Washington - Licensee - Green Freedom\n",
    "\n",
    "* UBI: 603350787\n",
    "\n",
    "We'll be using the [`cannapy`](https://github.com/CannabisData/cannapy) library to access the portal data.  `cannapy` aims to provide an abstract interface for accessing and working with *Cannabis* data from around the world.  It utilizes [xmunoz](https://github.com/xmunoz)'s [`sodapy`](https://github.com/xmunoz/sodapy) client to access Socrata-based open data portals and can return data loaded into [Pandas DataFrames](https://pandas.pydata.org/pandas-docs/stable/generated/pandas.DataFrame.html).\n",
    "\n",
    "### Dataset: Licensed Businesses\n",
    "\n",
    "* Canonical Dataset ID: **bhbp-x4eb**\n",
    "* Detail screen on the WSLCB Portal: https://data.lcb.wa.gov/Licensing/Licensed-Businesses/u3zh-ri66\n",
    "* Detail screen on Socrata's Open Data Foundry: https://dev.socrata.com/foundry/data.lcb.wa.gov/bhbp-x4eb"
   ]
  },
  {
   "cell_type": "code",
   "execution_count": 9,
   "metadata": {},
   "outputs": [],
   "source": [
    "import time\n",
    "import cannapy.us.wa.wslcb.portal as wslcb\n",
    "import pandas as pd"
   ]
  },
  {
   "cell_type": "code",
   "execution_count": 10,
   "metadata": {},
   "outputs": [],
   "source": [
    "# Specify your own Socrata App Token if you plan to experiment\n",
    "app_token = 'XaB9MBqc81C3KT4Vps6Wh5LZt'\n",
    "\n",
    "# Instantiate a cannapy interface to the WSLCB open data portal\n",
    "portal = wslcb.WSLCBPortal(app_token)\n",
    "\n",
    "# We'll be using the Licensed Businesses dataset\n",
    "dataset_id = 'bhbp-x4eb'\n",
    "\n",
    "# And we're looking for data on a particular licensee\n",
    "licensee_ubi = '603350787'"
   ]
  },
  {
   "cell_type": "code",
   "execution_count": 11,
   "metadata": {},
   "outputs": [
    {
     "name": "stdout",
     "output_type": "stream",
     "text": [
      "Last updated: Thu Dec 14 16:37:18 2017\n"
     ]
    }
   ],
   "source": [
    "# Check when the dataset was last updated\n",
    "last_updated = portal.dataset_last_updated(dataset_id)\n",
    "print('Last updated: {}'.format(time.strftime('%c', last_updated)))"
   ]
  },
  {
   "cell_type": "code",
   "execution_count": 12,
   "metadata": {
    "scrolled": true
   },
   "outputs": [],
   "source": [
    "# Retrieve the dataset preloaded into a Pandas DataFrame\n",
    "licenses = portal.get_dataframe(dataset_id)"
   ]
  },
  {
   "cell_type": "code",
   "execution_count": 13,
   "metadata": {
    "scrolled": true
   },
   "outputs": [
    {
     "data": {
      "text/html": [
       "<div>\n",
       "<style scoped>\n",
       "    .dataframe tbody tr th:only-of-type {\n",
       "        vertical-align: middle;\n",
       "    }\n",
       "\n",
       "    .dataframe tbody tr th {\n",
       "        vertical-align: top;\n",
       "    }\n",
       "\n",
       "    .dataframe thead th {\n",
       "        text-align: right;\n",
       "    }\n",
       "</style>\n",
       "<table border=\"1\" class=\"dataframe\">\n",
       "  <thead>\n",
       "    <tr style=\"text-align: right;\">\n",
       "      <th></th>\n",
       "      <th>license</th>\n",
       "      <th>type</th>\n",
       "      <th>createdate</th>\n",
       "      <th>active</th>\n",
       "      <th>organization</th>\n",
       "      <th>address</th>\n",
       "      <th>address_line_2</th>\n",
       "      <th>city</th>\n",
       "      <th>state</th>\n",
       "      <th>zip</th>\n",
       "      <th>county</th>\n",
       "      <th>dayphone</th>\n",
       "      <th>ubi_source</th>\n",
       "      <th>ubi</th>\n",
       "      <th>ubi_business_id</th>\n",
       "      <th>ubi_location</th>\n",
       "    </tr>\n",
       "  </thead>\n",
       "  <tbody>\n",
       "    <tr>\n",
       "      <th>1741</th>\n",
       "      <td>412515</td>\n",
       "      <td>MARIJUANA PRODUCER TIER 3/MARIJUANA PROCESSOR</td>\n",
       "      <td>20171027</td>\n",
       "      <td>ACTIVE (ISSUED)</td>\n",
       "      <td>GREEN FREEDOM</td>\n",
       "      <td>1087 MONTE ELMA RD</td>\n",
       "      <td>NaN</td>\n",
       "      <td>ELMA</td>\n",
       "      <td>WA</td>\n",
       "      <td>985419378</td>\n",
       "      <td>GRAYS HARBOR</td>\n",
       "      <td>3603040166</td>\n",
       "      <td>6033507870010001</td>\n",
       "      <td>603350787</td>\n",
       "      <td>001</td>\n",
       "      <td>0001</td>\n",
       "    </tr>\n",
       "  </tbody>\n",
       "</table>\n",
       "</div>"
      ],
      "text/plain": [
       "     license                                           type createdate  \\\n",
       "1741  412515  MARIJUANA PRODUCER TIER 3/MARIJUANA PROCESSOR   20171027   \n",
       "\n",
       "               active   organization             address address_line_2  city  \\\n",
       "1741  ACTIVE (ISSUED)  GREEN FREEDOM  1087 MONTE ELMA RD            NaN  ELMA   \n",
       "\n",
       "     state        zip        county    dayphone        ubi_source        ubi  \\\n",
       "1741    WA  985419378  GRAYS HARBOR  3603040166  6033507870010001  603350787   \n",
       "\n",
       "     ubi_business_id ubi_location  \n",
       "1741             001         0001  "
      ]
     },
     "execution_count": 13,
     "metadata": {},
     "output_type": "execute_result"
    }
   ],
   "source": [
    "# The UBI column uniquely identifies each licensee, but obscures ownership of multiple licenses by the same entity.\n",
    "# Let's break that column apart into its constituent parts:\n",
    "# Unified Business Identifier (UBI): first nine digits\n",
    "# Business ID Number: next three digits\n",
    "# Location Number: last four digits\n",
    "df_v2 = licenses.rename(columns={'ubi': 'ubi_source'})\n",
    "df_v2['ubi'] = df_v2.ubi_source.str[0:9]\n",
    "df_v2['ubi_business_id'] = df_v2.ubi_source.str[9:12]\n",
    "df_v2['ubi_location'] = df_v2.ubi_source.str[12:]\n",
    "licensee_licenses = df_v2.loc[df_v2['ubi'] == licensee_ubi]\n",
    "licensee_licenses"
   ]
  },
  {
   "cell_type": "markdown",
   "metadata": {},
   "source": [
    "### Dataset: Enforcement Visits\n",
    "\n",
    "* Canonical Dataset ID: **w7wg-8m52**\n",
    "* Detail screen on the WSLCB Portal: https://data.lcb.wa.gov/dataset/Enforcement-Visits-Dataset/jizx-thwg\n",
    "* Detail screen on Socrata's Open Data Foundry: https://dev.socrata.com/foundry/data.lcb.wa.gov/w7wg-8m52"
   ]
  },
  {
   "cell_type": "code",
   "execution_count": 14,
   "metadata": {},
   "outputs": [
    {
     "name": "stdout",
     "output_type": "stream",
     "text": [
      "Last updated: Tue Jan 16 10:35:57 2018\n"
     ]
    }
   ],
   "source": [
    "# Let's see how many enforcement visits the licensee has hosted\n",
    "dataset_id = 'w7wg-8m52'\n",
    "\n",
    "# Select the licensee's license number\n",
    "# TODO: find a way to do this without hardcoding the row number\n",
    "licensee_license_number = licensee_licenses.loc[1741, 'license']\n",
    "\n",
    "# Check when the dataset was last updated\n",
    "last_updated = portal.dataset_last_updated(dataset_id)\n",
    "print('Last updated: {}'.format(time.strftime('%c', last_updated)))"
   ]
  },
  {
   "cell_type": "code",
   "execution_count": 15,
   "metadata": {},
   "outputs": [
    {
     "data": {
      "text/html": [
       "<div>\n",
       "<style scoped>\n",
       "    .dataframe tbody tr th:only-of-type {\n",
       "        vertical-align: middle;\n",
       "    }\n",
       "\n",
       "    .dataframe tbody tr th {\n",
       "        vertical-align: top;\n",
       "    }\n",
       "\n",
       "    .dataframe thead th {\n",
       "        text-align: right;\n",
       "    }\n",
       "</style>\n",
       "<table border=\"1\" class=\"dataframe\">\n",
       "  <thead>\n",
       "    <tr style=\"text-align: right;\">\n",
       "      <th></th>\n",
       "      <th>date</th>\n",
       "      <th>license_number</th>\n",
       "      <th>city_name</th>\n",
       "      <th>county_name</th>\n",
       "      <th>activity</th>\n",
       "    </tr>\n",
       "  </thead>\n",
       "  <tbody>\n",
       "    <tr>\n",
       "      <th>9840</th>\n",
       "      <td>2015-10-01T00:00:00.000</td>\n",
       "      <td>412515</td>\n",
       "      <td>UNINCORPORATED AREAS</td>\n",
       "      <td>GRAYS HARBOR</td>\n",
       "      <td>Marijuana Premises Check</td>\n",
       "    </tr>\n",
       "    <tr>\n",
       "      <th>11986</th>\n",
       "      <td>2015-12-02T00:00:00.000</td>\n",
       "      <td>412515</td>\n",
       "      <td>UNINCORPORATED AREAS</td>\n",
       "      <td>GRAYS HARBOR</td>\n",
       "      <td>Marijuana Premises Check</td>\n",
       "    </tr>\n",
       "    <tr>\n",
       "      <th>10831</th>\n",
       "      <td>2016-04-12T00:00:00.000</td>\n",
       "      <td>412515</td>\n",
       "      <td>UNINCORPORATED AREAS</td>\n",
       "      <td>GRAYS HARBOR</td>\n",
       "      <td>Marijuana Premises Check</td>\n",
       "    </tr>\n",
       "    <tr>\n",
       "      <th>5109</th>\n",
       "      <td>2016-06-23T00:00:00.000</td>\n",
       "      <td>412515</td>\n",
       "      <td>UNINCORPORATED AREAS</td>\n",
       "      <td>GRAYS HARBOR</td>\n",
       "      <td>Marijuana Premises Check</td>\n",
       "    </tr>\n",
       "    <tr>\n",
       "      <th>7651</th>\n",
       "      <td>2016-06-27T00:00:00.000</td>\n",
       "      <td>412515</td>\n",
       "      <td>UNINCORPORATED AREAS</td>\n",
       "      <td>GRAYS HARBOR</td>\n",
       "      <td>Marijuana Premises Check</td>\n",
       "    </tr>\n",
       "    <tr>\n",
       "      <th>15437</th>\n",
       "      <td>2016-07-14T00:00:00.000</td>\n",
       "      <td>412515</td>\n",
       "      <td>UNINCORPORATED AREAS</td>\n",
       "      <td>GRAYS HARBOR</td>\n",
       "      <td>Marijuana Premises Check</td>\n",
       "    </tr>\n",
       "    <tr>\n",
       "      <th>12709</th>\n",
       "      <td>2017-02-28T00:00:00.000</td>\n",
       "      <td>412515</td>\n",
       "      <td>UNINCORPORATED AREAS</td>\n",
       "      <td>GRAYS HARBOR</td>\n",
       "      <td>Marijuana Premises Check</td>\n",
       "    </tr>\n",
       "    <tr>\n",
       "      <th>16381</th>\n",
       "      <td>2017-03-29T00:00:00.000</td>\n",
       "      <td>412515</td>\n",
       "      <td>UNINCORPORATED AREAS</td>\n",
       "      <td>GRAYS HARBOR</td>\n",
       "      <td>Marijuana Premises Check</td>\n",
       "    </tr>\n",
       "    <tr>\n",
       "      <th>1269</th>\n",
       "      <td>2017-07-18T00:00:00.000</td>\n",
       "      <td>412515</td>\n",
       "      <td>UNINCORPORATED AREAS</td>\n",
       "      <td>GRAYS HARBOR</td>\n",
       "      <td>Marijuana Premises Check</td>\n",
       "    </tr>\n",
       "    <tr>\n",
       "      <th>3736</th>\n",
       "      <td>2017-12-28T00:00:00.000</td>\n",
       "      <td>412515</td>\n",
       "      <td>UNINCORPORATED AREAS</td>\n",
       "      <td>GRAYS HARBOR</td>\n",
       "      <td>Marijuana Premises Check</td>\n",
       "    </tr>\n",
       "  </tbody>\n",
       "</table>\n",
       "</div>"
      ],
      "text/plain": [
       "                          date license_number             city_name  \\\n",
       "9840   2015-10-01T00:00:00.000         412515  UNINCORPORATED AREAS   \n",
       "11986  2015-12-02T00:00:00.000         412515  UNINCORPORATED AREAS   \n",
       "10831  2016-04-12T00:00:00.000         412515  UNINCORPORATED AREAS   \n",
       "5109   2016-06-23T00:00:00.000         412515  UNINCORPORATED AREAS   \n",
       "7651   2016-06-27T00:00:00.000         412515  UNINCORPORATED AREAS   \n",
       "15437  2016-07-14T00:00:00.000         412515  UNINCORPORATED AREAS   \n",
       "12709  2017-02-28T00:00:00.000         412515  UNINCORPORATED AREAS   \n",
       "16381  2017-03-29T00:00:00.000         412515  UNINCORPORATED AREAS   \n",
       "1269   2017-07-18T00:00:00.000         412515  UNINCORPORATED AREAS   \n",
       "3736   2017-12-28T00:00:00.000         412515  UNINCORPORATED AREAS   \n",
       "\n",
       "        county_name                  activity  \n",
       "9840   GRAYS HARBOR  Marijuana Premises Check  \n",
       "11986  GRAYS HARBOR  Marijuana Premises Check  \n",
       "10831  GRAYS HARBOR  Marijuana Premises Check  \n",
       "5109   GRAYS HARBOR  Marijuana Premises Check  \n",
       "7651   GRAYS HARBOR  Marijuana Premises Check  \n",
       "15437  GRAYS HARBOR  Marijuana Premises Check  \n",
       "12709  GRAYS HARBOR  Marijuana Premises Check  \n",
       "16381  GRAYS HARBOR  Marijuana Premises Check  \n",
       "1269   GRAYS HARBOR  Marijuana Premises Check  \n",
       "3736   GRAYS HARBOR  Marijuana Premises Check  "
      ]
     },
     "execution_count": 15,
     "metadata": {},
     "output_type": "execute_result"
    }
   ],
   "source": [
    "# Retrieve the dataset preloaded into a Pandas DataFrame\n",
    "enforcement_visits = portal.get_dataframe(dataset_id)\n",
    "\n",
    "# Suppress the chained assignment warning: https://stackoverflow.com/a/20627316/7622699\n",
    "pd.options.mode.chained_assignment = None\n",
    "\n",
    "# Pull aside the enforcement visits by the selected licensee\n",
    "licensee_enforcement_visits = enforcement_visits.loc[enforcement_visits['license_number'] == licensee_license_number]\n",
    "\n",
    "# Sort the DataFrame by 'date'\n",
    "licensee_enforcement_visits.sort_values(by='date', inplace=True)\n",
    "\n",
    "licensee_enforcement_visits"
   ]
  },
  {
   "cell_type": "markdown",
   "metadata": {},
   "source": [
    "### Dataset: Violations\n",
    "\n",
    "* Canonical Dataset ID: **dgm4-3cm6**\n",
    "* Detail screen on the WSLCB Portal: https://data.lcb.wa.gov/dataset/Violations-Dataset/dx3i-tzh2\n",
    "* Detail screen on Socrata's Open Data Foundry: https://dev.socrata.com/foundry/data.lcb.wa.gov/dgm4-3cm6"
   ]
  },
  {
   "cell_type": "code",
   "execution_count": 16,
   "metadata": {},
   "outputs": [
    {
     "name": "stdout",
     "output_type": "stream",
     "text": [
      "Last updated: Tue Jan 16 10:35:24 2018\n"
     ]
    }
   ],
   "source": [
    "# Let's pull up all of the licensee's violations\n",
    "dataset_id = 'dgm4-3cm6'\n",
    "\n",
    "# Check when the dataset was last updated\n",
    "last_updated = portal.dataset_last_updated(dataset_id)\n",
    "print('Last updated: {}'.format(time.strftime('%c', last_updated)))"
   ]
  },
  {
   "cell_type": "code",
   "execution_count": 17,
   "metadata": {},
   "outputs": [
    {
     "data": {
      "text/html": [
       "<div>\n",
       "<style scoped>\n",
       "    .dataframe tbody tr th:only-of-type {\n",
       "        vertical-align: middle;\n",
       "    }\n",
       "\n",
       "    .dataframe tbody tr th {\n",
       "        vertical-align: top;\n",
       "    }\n",
       "\n",
       "    .dataframe thead th {\n",
       "        text-align: right;\n",
       "    }\n",
       "</style>\n",
       "<table border=\"1\" class=\"dataframe\">\n",
       "  <thead>\n",
       "    <tr style=\"text-align: right;\">\n",
       "      <th></th>\n",
       "      <th>visit_date</th>\n",
       "      <th>license_number</th>\n",
       "      <th>county_name</th>\n",
       "      <th>city_name</th>\n",
       "      <th>case</th>\n",
       "      <th>violation_code</th>\n",
       "      <th>wac_code</th>\n",
       "      <th>penalty_type</th>\n",
       "    </tr>\n",
       "  </thead>\n",
       "  <tbody>\n",
       "    <tr>\n",
       "      <th>144</th>\n",
       "      <td>2015-12-02T00:00:00.000</td>\n",
       "      <td>412515</td>\n",
       "      <td>GRAYS HARBOR</td>\n",
       "      <td>UNINCORPORATED AREAS</td>\n",
       "      <td>7D5336A</td>\n",
       "      <td>NaN</td>\n",
       "      <td>314.55.083(4)</td>\n",
       "      <td>Written Warning</td>\n",
       "    </tr>\n",
       "  </tbody>\n",
       "</table>\n",
       "</div>"
      ],
      "text/plain": [
       "                  visit_date license_number   county_name  \\\n",
       "144  2015-12-02T00:00:00.000         412515  GRAYS HARBOR   \n",
       "\n",
       "                city_name     case  violation_code       wac_code  \\\n",
       "144  UNINCORPORATED AREAS  7D5336A             NaN  314.55.083(4)   \n",
       "\n",
       "        penalty_type  \n",
       "144  Written Warning  "
      ]
     },
     "execution_count": 17,
     "metadata": {},
     "output_type": "execute_result"
    }
   ],
   "source": [
    "# Retrieve the dataset preloaded into a Pandas DataFrame\n",
    "violations = portal.get_dataframe(dataset_id)\n",
    "\n",
    "# Pull aside the violations by the selected licensee\n",
    "licensee_violations = violations.loc[violations['license_number'] == licensee_license_number]\n",
    "\n",
    "# Sort the DataFrame by 'visit_date'\n",
    "licensee_violations.sort_values(by='visit_date', inplace=True)\n",
    "\n",
    "licensee_violations"
   ]
  }
 ],
 "metadata": {
  "kernelspec": {
   "display_name": "Python 3",
   "language": "python",
   "name": "python3"
  },
  "language_info": {
   "codemirror_mode": {
    "name": "ipython",
    "version": 3
   },
   "file_extension": ".py",
   "mimetype": "text/x-python",
   "name": "python",
   "nbconvert_exporter": "python",
   "pygments_lexer": "ipython3",
   "version": "3.6.3"
  }
 },
 "nbformat": 4,
 "nbformat_minor": 2
}
