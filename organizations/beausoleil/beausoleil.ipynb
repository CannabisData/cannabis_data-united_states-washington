{
 "cells": [
  {
   "cell_type": "markdown",
   "metadata": {},
   "source": [
    "## State of Washington - Licensee - Beausoleil\n",
    "\n",
    "* UBI: 603354168\n",
    "\n",
    "We'll be using the [`cannapy`](https://github.com/CannabisData/cannapy) library to access the portal data.  `cannapy` aims to provide an abstract interface for accessing and working with *Cannabis* data from around the world.  It utilizes [xmunoz](https://github.com/xmunoz)'s [`sodapy`](https://github.com/xmunoz/sodapy) client to access Socrata-based open data portals and can return data loaded into [Pandas DataFrames](https://pandas.pydata.org/pandas-docs/stable/generated/pandas.DataFrame.html).\n",
    "\n",
    "### Dataset: Licensed Businesses\n",
    "\n",
    "* Canonical Dataset ID: **bhbp-x4eb**\n",
    "* Detail screen on the WSLCB Portal: https://data.lcb.wa.gov/Licensing/Licensed-Businesses/u3zh-ri66\n",
    "* Detail screen on Socrata's Open Data Foundry: https://dev.socrata.com/foundry/data.lcb.wa.gov/bhbp-x4eb"
   ]
  },
  {
   "cell_type": "code",
   "execution_count": 14,
   "metadata": {},
   "outputs": [],
   "source": [
    "import time\n",
    "import cannapy.us.wa.wslcb.portal as wslcb\n",
    "import pandas as pd"
   ]
  },
  {
   "cell_type": "code",
   "execution_count": 15,
   "metadata": {},
   "outputs": [],
   "source": [
    "# Specify your own Socrata App Token if you plan to experiment\n",
    "app_token = 'XaB9MBqc81C3KT4Vps6Wh5LZt'\n",
    "\n",
    "# Instantiate a cannapy interface to the WSLCB open data portal\n",
    "portal = wslcb.WSLCBPortal(app_token)\n",
    "\n",
    "# We'll be using the Licensed Businesses dataset\n",
    "dataset_id = 'bhbp-x4eb'\n",
    "\n",
    "# And we're looking for data on a particular licensee\n",
    "licensee_ubi = '603354168'"
   ]
  },
  {
   "cell_type": "code",
   "execution_count": 16,
   "metadata": {},
   "outputs": [
    {
     "name": "stdout",
     "output_type": "stream",
     "text": [
      "Last updated: Wed Jun 27 14:02:12 2018\n"
     ]
    }
   ],
   "source": [
    "# Check when the dataset was last updated\n",
    "last_updated = portal.dataset_last_updated(dataset_id)\n",
    "print('Last updated: {}'.format(time.strftime('%c', last_updated)))"
   ]
  },
  {
   "cell_type": "code",
   "execution_count": 17,
   "metadata": {
    "scrolled": true
   },
   "outputs": [],
   "source": [
    "# Retrieve the dataset preloaded into a Pandas DataFrame\n",
    "licenses = portal.get_dataframe(dataset_id)"
   ]
  },
  {
   "cell_type": "code",
   "execution_count": 18,
   "metadata": {
    "scrolled": true
   },
   "outputs": [
    {
     "data": {
      "text/html": [
       "<div>\n",
       "<style scoped>\n",
       "    .dataframe tbody tr th:only-of-type {\n",
       "        vertical-align: middle;\n",
       "    }\n",
       "\n",
       "    .dataframe tbody tr th {\n",
       "        vertical-align: top;\n",
       "    }\n",
       "\n",
       "    .dataframe thead th {\n",
       "        text-align: right;\n",
       "    }\n",
       "</style>\n",
       "<table border=\"1\" class=\"dataframe\">\n",
       "  <thead>\n",
       "    <tr style=\"text-align: right;\">\n",
       "      <th></th>\n",
       "      <th>license</th>\n",
       "      <th>type</th>\n",
       "      <th>createdate</th>\n",
       "      <th>active</th>\n",
       "      <th>organization</th>\n",
       "      <th>address</th>\n",
       "      <th>address_line_2</th>\n",
       "      <th>city</th>\n",
       "      <th>state</th>\n",
       "      <th>zip</th>\n",
       "      <th>county</th>\n",
       "      <th>dayphone</th>\n",
       "      <th>ubi_source</th>\n",
       "      <th>ubi</th>\n",
       "      <th>ubi_business_id</th>\n",
       "      <th>ubi_location</th>\n",
       "    </tr>\n",
       "  </thead>\n",
       "  <tbody>\n",
       "    <tr>\n",
       "      <th>0</th>\n",
       "      <td>416694</td>\n",
       "      <td>MARIJUANA PRODUCER TIER 3/MARIJUANA PROCESSOR</td>\n",
       "      <td>20171229</td>\n",
       "      <td>ACTIVE (ISSUED)</td>\n",
       "      <td>BEAUSOLEIL</td>\n",
       "      <td>7903 BEAVER VALLEY RD STE A</td>\n",
       "      <td>NaN</td>\n",
       "      <td>CHIMACUM</td>\n",
       "      <td>WA</td>\n",
       "      <td>983250000</td>\n",
       "      <td>JEFFERSON</td>\n",
       "      <td>2253299486</td>\n",
       "      <td>6033541680010000</td>\n",
       "      <td>603354168</td>\n",
       "      <td>001</td>\n",
       "      <td>0000</td>\n",
       "    </tr>\n",
       "  </tbody>\n",
       "</table>\n",
       "</div>"
      ],
      "text/plain": [
       "  license                                           type createdate  \\\n",
       "0  416694  MARIJUANA PRODUCER TIER 3/MARIJUANA PROCESSOR   20171229   \n",
       "\n",
       "            active organization                      address address_line_2  \\\n",
       "0  ACTIVE (ISSUED)   BEAUSOLEIL  7903 BEAVER VALLEY RD STE A            NaN   \n",
       "\n",
       "       city state        zip     county    dayphone        ubi_source  \\\n",
       "0  CHIMACUM    WA  983250000  JEFFERSON  2253299486  6033541680010000   \n",
       "\n",
       "         ubi ubi_business_id ubi_location  \n",
       "0  603354168             001         0000  "
      ]
     },
     "execution_count": 18,
     "metadata": {},
     "output_type": "execute_result"
    }
   ],
   "source": [
    "# The UBI column uniquely identifies each licensee, but obscures ownership of multiple licenses by the same entity.\n",
    "# Let's break that column apart into its constituent parts:\n",
    "# Unified Business Identifier (UBI): first nine digits\n",
    "# Business ID Number: next three digits\n",
    "# Location Number: last four digits\n",
    "df_v2 = licenses.rename(columns={'ubi': 'ubi_source'})\n",
    "df_v2['ubi'] = df_v2.ubi_source.str[0:9]\n",
    "df_v2['ubi_business_id'] = df_v2.ubi_source.str[9:12]\n",
    "df_v2['ubi_location'] = df_v2.ubi_source.str[12:]\n",
    "licensee_licenses = df_v2.loc[df_v2['ubi'] == licensee_ubi]\n",
    "licensee_licenses"
   ]
  },
  {
   "cell_type": "markdown",
   "metadata": {},
   "source": [
    "### Dataset: Enforcement Visits\n",
    "\n",
    "* Canonical Dataset ID: **w7wg-8m52**\n",
    "* Detail screen on the WSLCB Portal: https://data.lcb.wa.gov/dataset/Enforcement-Visits-Dataset/jizx-thwg\n",
    "* Detail screen on Socrata's Open Data Foundry: https://dev.socrata.com/foundry/data.lcb.wa.gov/w7wg-8m52"
   ]
  },
  {
   "cell_type": "code",
   "execution_count": 19,
   "metadata": {},
   "outputs": [
    {
     "name": "stdout",
     "output_type": "stream",
     "text": [
      "Last updated: Mon Feb 25 13:34:36 2019\n"
     ]
    }
   ],
   "source": [
    "# Let's see how many enforcement visits the licensee has hosted\n",
    "dataset_id = 'w7wg-8m52'\n",
    "\n",
    "# Select the licensee's license number\n",
    "# TODO: find a way to do this without hardcoding the row number\n",
    "licensee_license_number = licensee_licenses.loc[0, 'license']\n",
    "\n",
    "# Check when the dataset was last updated\n",
    "last_updated = portal.dataset_last_updated(dataset_id)\n",
    "print('Last updated: {}'.format(time.strftime('%c', last_updated)))"
   ]
  },
  {
   "cell_type": "code",
   "execution_count": 20,
   "metadata": {},
   "outputs": [
    {
     "data": {
      "text/html": [
       "<div>\n",
       "<style scoped>\n",
       "    .dataframe tbody tr th:only-of-type {\n",
       "        vertical-align: middle;\n",
       "    }\n",
       "\n",
       "    .dataframe tbody tr th {\n",
       "        vertical-align: top;\n",
       "    }\n",
       "\n",
       "    .dataframe thead th {\n",
       "        text-align: right;\n",
       "    }\n",
       "</style>\n",
       "<table border=\"1\" class=\"dataframe\">\n",
       "  <thead>\n",
       "    <tr style=\"text-align: right;\">\n",
       "      <th></th>\n",
       "      <th>date</th>\n",
       "      <th>license_number</th>\n",
       "      <th>city_name</th>\n",
       "      <th>county_name</th>\n",
       "      <th>activity</th>\n",
       "    </tr>\n",
       "  </thead>\n",
       "  <tbody>\n",
       "  </tbody>\n",
       "</table>\n",
       "</div>"
      ],
      "text/plain": [
       "Empty DataFrame\n",
       "Columns: [date, license_number, city_name, county_name, activity]\n",
       "Index: []"
      ]
     },
     "execution_count": 20,
     "metadata": {},
     "output_type": "execute_result"
    }
   ],
   "source": [
    "# Retrieve the dataset preloaded into a Pandas DataFrame\n",
    "enforcement_visits = portal.get_dataframe(dataset_id)\n",
    "\n",
    "# Suppress the chained assignment warning: https://stackoverflow.com/a/20627316/7622699\n",
    "pd.options.mode.chained_assignment = None\n",
    "\n",
    "# Pull aside the enforcement visits by the selected licensee\n",
    "licensee_enforcement_visits = enforcement_visits.loc[enforcement_visits['license_number'] == licensee_license_number]\n",
    "\n",
    "# Sort the DataFrame by 'date'\n",
    "licensee_enforcement_visits.sort_values(by='date', inplace=True)\n",
    "\n",
    "licensee_enforcement_visits"
   ]
  },
  {
   "cell_type": "markdown",
   "metadata": {},
   "source": [
    "### Dataset: Violations\n",
    "\n",
    "* Canonical Dataset ID: **dgm4-3cm6**\n",
    "* Detail screen on the WSLCB Portal: https://data.lcb.wa.gov/dataset/Violations-Dataset/dx3i-tzh2\n",
    "* Detail screen on Socrata's Open Data Foundry: https://dev.socrata.com/foundry/data.lcb.wa.gov/dgm4-3cm6"
   ]
  },
  {
   "cell_type": "code",
   "execution_count": 21,
   "metadata": {},
   "outputs": [
    {
     "name": "stdout",
     "output_type": "stream",
     "text": [
      "Last updated: Mon Feb 25 13:33:58 2019\n"
     ]
    }
   ],
   "source": [
    "# Let's pull up all of the licensee's violations\n",
    "dataset_id = 'dgm4-3cm6'\n",
    "\n",
    "# Check when the dataset was last updated\n",
    "last_updated = portal.dataset_last_updated(dataset_id)\n",
    "print('Last updated: {}'.format(time.strftime('%c', last_updated)))"
   ]
  },
  {
   "cell_type": "code",
   "execution_count": 22,
   "metadata": {},
   "outputs": [
    {
     "data": {
      "text/html": [
       "<div>\n",
       "<style scoped>\n",
       "    .dataframe tbody tr th:only-of-type {\n",
       "        vertical-align: middle;\n",
       "    }\n",
       "\n",
       "    .dataframe tbody tr th {\n",
       "        vertical-align: top;\n",
       "    }\n",
       "\n",
       "    .dataframe thead th {\n",
       "        text-align: right;\n",
       "    }\n",
       "</style>\n",
       "<table border=\"1\" class=\"dataframe\">\n",
       "  <thead>\n",
       "    <tr style=\"text-align: right;\">\n",
       "      <th></th>\n",
       "      <th>visit_date</th>\n",
       "      <th>license_number</th>\n",
       "      <th>county_name</th>\n",
       "      <th>city_name</th>\n",
       "      <th>case</th>\n",
       "      <th>violation_code</th>\n",
       "      <th>wac_code</th>\n",
       "      <th>penalty_type</th>\n",
       "    </tr>\n",
       "  </thead>\n",
       "  <tbody>\n",
       "  </tbody>\n",
       "</table>\n",
       "</div>"
      ],
      "text/plain": [
       "Empty DataFrame\n",
       "Columns: [visit_date, license_number, county_name, city_name, case, violation_code, wac_code, penalty_type]\n",
       "Index: []"
      ]
     },
     "execution_count": 22,
     "metadata": {},
     "output_type": "execute_result"
    }
   ],
   "source": [
    "# Retrieve the dataset preloaded into a Pandas DataFrame\n",
    "violations = portal.get_dataframe(dataset_id)\n",
    "\n",
    "# Pull aside the violations by the selected licensee\n",
    "licensee_violations = violations.loc[violations['license_number'] == licensee_license_number]\n",
    "\n",
    "# Sort the DataFrame by 'visit_date'\n",
    "licensee_violations.sort_values(by='visit_date', inplace=True)\n",
    "\n",
    "licensee_violations"
   ]
  },
  {
   "cell_type": "code",
   "execution_count": null,
   "metadata": {},
   "outputs": [],
   "source": []
  }
 ],
 "metadata": {
  "kernelspec": {
   "display_name": "Python 3",
   "language": "python",
   "name": "python3"
  },
  "language_info": {
   "codemirror_mode": {
    "name": "ipython",
    "version": 3
   },
   "file_extension": ".py",
   "mimetype": "text/x-python",
   "name": "python",
   "nbconvert_exporter": "python",
   "pygments_lexer": "ipython3",
   "version": "3.6.3"
  }
 },
 "nbformat": 4,
 "nbformat_minor": 2
}
