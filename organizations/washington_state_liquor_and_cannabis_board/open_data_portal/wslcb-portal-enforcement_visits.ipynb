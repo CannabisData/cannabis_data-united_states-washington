{
 "cells": [
  {
   "cell_type": "markdown",
   "metadata": {},
   "source": [
    "## Washington State Liquor and Cannabis Board (WSLCB) Open Data Portal\n",
    "\n",
    "*For an introduction to the WSLCB, [see the README in the parent directory](../README.md).*\n",
    "\n",
    "*For an introduction to the WSLCB's Socrata-based Open Data Portal, [see the README in this directory](./README.md).*\n",
    "\n",
    "### Dataset: Enforcement Visits\n",
    "\n",
    "* Canonical Dataset ID: **w7wg-8m52**\n",
    "* Detail screen on the WSLCB Portal: https://data.lcb.wa.gov/dataset/Enforcement-Visits-Dataset/jizx-thwg\n",
    "* Detail screen on Socrata's Open Data Foundry: https://dev.socrata.com/foundry/data.lcb.wa.gov/w7wg-8m52\n",
    "\n",
    "We'll be using the [`cannapy`](https://github.com/CannabisData/cannapy) library to access the portal data.  `cannapy` aims to provide an abstract interface for accessing and working with *Cannabis* data from around the world.  It utilizes [xmunoz](https://github.com/xmunoz)'s [`sodapy`](https://github.com/xmunoz/sodapy) client to access Socrata-based open data portals and can return data loaded into [Pandas DataFrames](https://pandas.pydata.org/pandas-docs/stable/generated/pandas.DataFrame.html)."
   ]
  },
  {
   "cell_type": "code",
   "execution_count": 1,
   "metadata": {},
   "outputs": [],
   "source": [
    "import time\n",
    "import cannapy.us.wa.wslcb.portal as wslcb\n",
    "import pandas as pd"
   ]
  },
  {
   "cell_type": "code",
   "execution_count": 2,
   "metadata": {},
   "outputs": [],
   "source": [
    "# Specify your own Socrata App Token if you plan to experiment\n",
    "app_token = 'XaB9MBqc81C3KT4Vps6Wh5LZt'\n",
    "\n",
    "# Instantiate a cannapy interface to the WSLCB open data portal\n",
    "portal = wslcb.WSLCBPortal(app_token)\n",
    "\n",
    "# We'll be using the Enforcement Visits dataset\n",
    "dataset_id = 'w7wg-8m52'"
   ]
  },
  {
   "cell_type": "code",
   "execution_count": 3,
   "metadata": {},
   "outputs": [
    {
     "name": "stdout",
     "output_type": "stream",
     "text": [
      "Last updated: Thu Nov 16 10:55:40 2017\n"
     ]
    }
   ],
   "source": [
    "# Check when the dataset was last updated\n",
    "last_updated = portal.dataset_last_updated(dataset_id)\n",
    "print('Last updated: {}'.format(time.strftime('%c', last_updated)))"
   ]
  },
  {
   "cell_type": "code",
   "execution_count": 4,
   "metadata": {},
   "outputs": [
    {
     "data": {
      "text/html": [
       "<div>\n",
       "<style scoped>\n",
       "    .dataframe tbody tr th:only-of-type {\n",
       "        vertical-align: middle;\n",
       "    }\n",
       "\n",
       "    .dataframe tbody tr th {\n",
       "        vertical-align: top;\n",
       "    }\n",
       "\n",
       "    .dataframe thead th {\n",
       "        text-align: right;\n",
       "    }\n",
       "</style>\n",
       "<table border=\"1\" class=\"dataframe\">\n",
       "  <thead>\n",
       "    <tr style=\"text-align: right;\">\n",
       "      <th></th>\n",
       "      <th>date</th>\n",
       "      <th>license_number</th>\n",
       "      <th>city_name</th>\n",
       "      <th>county_name</th>\n",
       "      <th>activity</th>\n",
       "    </tr>\n",
       "  </thead>\n",
       "  <tbody>\n",
       "    <tr>\n",
       "      <th>0</th>\n",
       "      <td>2014-08-27T00:00:00.000</td>\n",
       "      <td>NaN</td>\n",
       "      <td>NaN</td>\n",
       "      <td>NaN</td>\n",
       "      <td>Marijuana Applicant Site Verification</td>\n",
       "    </tr>\n",
       "    <tr>\n",
       "      <th>1</th>\n",
       "      <td>2017-06-08T00:00:00.000</td>\n",
       "      <td>360307</td>\n",
       "      <td>SPOKANE (CITY)</td>\n",
       "      <td>SPOKANE</td>\n",
       "      <td>Marijuana Premises Check</td>\n",
       "    </tr>\n",
       "    <tr>\n",
       "      <th>2</th>\n",
       "      <td>2015-02-19T00:00:00.000</td>\n",
       "      <td>NaN</td>\n",
       "      <td>NaN</td>\n",
       "      <td>NaN</td>\n",
       "      <td>Marijuana Premises Check</td>\n",
       "    </tr>\n",
       "    <tr>\n",
       "      <th>3</th>\n",
       "      <td>2015-04-20T00:00:00.000</td>\n",
       "      <td>NaN</td>\n",
       "      <td>NaN</td>\n",
       "      <td>NaN</td>\n",
       "      <td>Marijuana Premises Check</td>\n",
       "    </tr>\n",
       "    <tr>\n",
       "      <th>4</th>\n",
       "      <td>2015-11-16T00:00:00.000</td>\n",
       "      <td>NaN</td>\n",
       "      <td>NaN</td>\n",
       "      <td>NaN</td>\n",
       "      <td>Marijuana Applicant Site Verification</td>\n",
       "    </tr>\n",
       "  </tbody>\n",
       "</table>\n",
       "</div>"
      ],
      "text/plain": [
       "                      date license_number       city_name county_name  \\\n",
       "0  2014-08-27T00:00:00.000            NaN             NaN         NaN   \n",
       "1  2017-06-08T00:00:00.000         360307  SPOKANE (CITY)     SPOKANE   \n",
       "2  2015-02-19T00:00:00.000            NaN             NaN         NaN   \n",
       "3  2015-04-20T00:00:00.000            NaN             NaN         NaN   \n",
       "4  2015-11-16T00:00:00.000            NaN             NaN         NaN   \n",
       "\n",
       "                                activity  \n",
       "0  Marijuana Applicant Site Verification  \n",
       "1               Marijuana Premises Check  \n",
       "2               Marijuana Premises Check  \n",
       "3               Marijuana Premises Check  \n",
       "4  Marijuana Applicant Site Verification  "
      ]
     },
     "execution_count": 4,
     "metadata": {},
     "output_type": "execute_result"
    }
   ],
   "source": [
    "# Retrieve the dataset preloaded into a Pandas DataFrame\n",
    "df = portal.get_dataframe(dataset_id)\n",
    "\n",
    "# Validate we've got the right data by examining the first few rows\n",
    "df.head()"
   ]
  },
  {
   "cell_type": "code",
   "execution_count": 6,
   "metadata": {},
   "outputs": [],
   "source": [
    "# Looks like we need to combine the city name values for \"Unincorporated Areas\".\n",
    "df.replace(to_replace='UNINCORP. AREAS', value='UNINCORPORATED AREAS', inplace=True)"
   ]
  },
  {
   "cell_type": "code",
   "execution_count": 7,
   "metadata": {},
   "outputs": [
    {
     "data": {
      "text/plain": [
       "UNINCORPORATED AREAS    387\n",
       "SEATTLE                  65\n",
       "TACOMA                   47\n",
       "SPOKANE (CITY)           44\n",
       "BELLINGHAM               29\n",
       "YAKIMA                   14\n",
       "ARLINGTON                14\n",
       "UNION GAP                14\n",
       "RENTON                   13\n",
       "LONGVIEW                 13\n",
       "VANCOUVER                12\n",
       "TUMWATER                 11\n",
       "EDMONDS                  11\n",
       "MOUNT VERNON             10\n",
       "SPOKANE VALLEY           10\n",
       "BREMERTON                10\n",
       "BUCKLEY                   9\n",
       "PORT ORCHARD              9\n",
       "COVINGTON                 9\n",
       "OLYMPIA                   9\n",
       "MILLWOOD                  9\n",
       "AUBURN                    8\n",
       "RITZVILLE                 8\n",
       "GOLD BAR                  8\n",
       "PULLMAN                   8\n",
       "LACEY                     8\n",
       "RAYMOND                   7\n",
       "REDMOND                   7\n",
       "ELLENSBURG                7\n",
       "AIRWAY HEIGHTS            6\n",
       "                       ... \n",
       "KIRKLAND                  2\n",
       "BLAINE                    2\n",
       "FORKS                     2\n",
       "NORTH BONNEVILLE          2\n",
       "LYNNWOOD                  2\n",
       "ILWACO                    2\n",
       "IONE                      1\n",
       "GOLDENDALE                1\n",
       "BONNEY LAKE               1\n",
       "DAVENPORT                 1\n",
       "SEQUIM                    1\n",
       "UNIVERSITY PLACE          1\n",
       "MUKILTEO                  1\n",
       "LAKE STEVENS              1\n",
       "BOTHELL/SNOHOMISH         1\n",
       "MOUNTLAKE TERRACE         1\n",
       "ROSLYN                    1\n",
       "BAINBRIDGE ISLAND         1\n",
       "KELSO                     1\n",
       "WOODLAND                  1\n",
       "VADER                     1\n",
       "KALAMA                    1\n",
       "COLVILLE                  1\n",
       "EAST WENATCHEE            1\n",
       "MARYSVILLE                1\n",
       "OKANOGAN                  1\n",
       "RICHLAND                  1\n",
       "WALLA WALLA (CITY)        1\n",
       "TUKWILA                   1\n",
       "PROSSER                   1\n",
       "Name: city_name, Length: 89, dtype: int64"
      ]
     },
     "execution_count": 7,
     "metadata": {},
     "output_type": "execute_result"
    }
   ],
   "source": [
    "# The DataFrame value_counts() histogramming method is useful for asking basic questions of any dataset\n",
    "# column/Series with consistent text values.\n",
    "\n",
    "# Question: How many enforcement visits have been documented in each city?\n",
    "df.city_name.value_counts()"
   ]
  },
  {
   "cell_type": "code",
   "execution_count": 8,
   "metadata": {},
   "outputs": [
    {
     "data": {
      "text/plain": [
       "KING            158\n",
       "SPOKANE          96\n",
       "PIERCE           92\n",
       "SNOHOMISH        74\n",
       "THURSTON         66\n",
       "WHATCOM          54\n",
       "OKANOGAN         46\n",
       "CHELAN           41\n",
       "KITSAP           38\n",
       "YAKIMA           36\n",
       "SKAGIT           36\n",
       "GRAYS HARBOR     28\n",
       "COWLITZ          20\n",
       "GRANT            19\n",
       "KITTITAS         19\n",
       "PACIFIC          16\n",
       "CLARK            16\n",
       "MASON            13\n",
       "WHITMAN          12\n",
       "ISLAND           12\n",
       "ADAMS            10\n",
       "DOUGLAS          10\n",
       "JEFFERSON        10\n",
       "BENTON            8\n",
       "LEWIS             6\n",
       "KLICKITAT         5\n",
       "ASOTIN            5\n",
       "CLALLAM           5\n",
       "STEVENS           4\n",
       "SKAMANIA          2\n",
       "SAN JUAN          2\n",
       "WALLA WALLA       2\n",
       "LINCOLN           1\n",
       "PEND OREILLE      1\n",
       "FERRY             1\n",
       "Name: county_name, dtype: int64"
      ]
     },
     "execution_count": 8,
     "metadata": {},
     "output_type": "execute_result"
    }
   ],
   "source": [
    "# Question: How many enforcement visits have been documented in each county?\n",
    "df.county_name.value_counts()"
   ]
  },
  {
   "cell_type": "code",
   "execution_count": 9,
   "metadata": {},
   "outputs": [
    {
     "data": {
      "text/plain": [
       "413596    9\n",
       "423096    8\n",
       "423413    7\n",
       "421695    7\n",
       "420889    6\n",
       "421786    6\n",
       "415333    6\n",
       "353928    6\n",
       "424751    6\n",
       "413813    6\n",
       "412490    5\n",
       "415486    5\n",
       "412923    5\n",
       "422570    5\n",
       "082587    5\n",
       "424257    5\n",
       "414398    4\n",
       "422658    4\n",
       "417183    4\n",
       "354876    4\n",
       "424647    4\n",
       "414958    4\n",
       "414733    4\n",
       "414889    4\n",
       "414539    4\n",
       "415032    4\n",
       "353993    4\n",
       "422278    4\n",
       "084154    4\n",
       "424747    4\n",
       "         ..\n",
       "412214    1\n",
       "416806    1\n",
       "416106    1\n",
       "422380    1\n",
       "416008    1\n",
       "410332    1\n",
       "418021    1\n",
       "413002    1\n",
       "414755    1\n",
       "415425    1\n",
       "417646    1\n",
       "415734    1\n",
       "412858    1\n",
       "415517    1\n",
       "414273    1\n",
       "423977    1\n",
       "412875    1\n",
       "412681    1\n",
       "420389    1\n",
       "422290    1\n",
       "417051    1\n",
       "412567    1\n",
       "421726    1\n",
       "413948    1\n",
       "359314    1\n",
       "415094    1\n",
       "413801    1\n",
       "412174    1\n",
       "414143    1\n",
       "082522    1\n",
       "Name: license_number, Length: 564, dtype: int64"
      ]
     },
     "execution_count": 9,
     "metadata": {},
     "output_type": "execute_result"
    }
   ],
   "source": [
    "# Question: How many enforcement visits have been documented per licensee?\n",
    "df.license_number.value_counts()"
   ]
  },
  {
   "cell_type": "code",
   "execution_count": 11,
   "metadata": {
    "scrolled": true
   },
   "outputs": [
    {
     "data": {
      "text/plain": [
       "Marijuana Premises Check                 807\n",
       "Marijuana Compliance Check-no Sale       177\n",
       "Marijuana Applicant Site Verification      9\n",
       "Marijuana Compliance Check-Sale            7\n",
       "Name: activity, dtype: int64"
      ]
     },
     "execution_count": 11,
     "metadata": {},
     "output_type": "execute_result"
    }
   ],
   "source": [
    "# Question: What are the types and quantities of activities?\n",
    "df.activity.value_counts()"
   ]
  },
  {
   "cell_type": "code",
   "execution_count": null,
   "metadata": {},
   "outputs": [],
   "source": []
  }
 ],
 "metadata": {
  "kernelspec": {
   "display_name": "Python 3",
   "language": "python",
   "name": "python3"
  },
  "language_info": {
   "codemirror_mode": {
    "name": "ipython",
    "version": 3
   },
   "file_extension": ".py",
   "mimetype": "text/x-python",
   "name": "python",
   "nbconvert_exporter": "python",
   "pygments_lexer": "ipython3",
   "version": "3.6.3"
  }
 },
 "nbformat": 4,
 "nbformat_minor": 2
}
