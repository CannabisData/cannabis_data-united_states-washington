{
 "cells": [
  {
   "cell_type": "markdown",
   "metadata": {},
   "source": [
    "## Washington State Liquor and Cannabis Board (WSLCB) Open Data Portal\n",
    "\n",
    "*For an introduction to the WSLCB, [see the README in the parent directory](../README.md).*\n",
    "\n",
    "*For an introduction to the WSLCB's Socrata-based Open Data Portal, [see the README in this directory](./README.md).*\n",
    "\n",
    "### Dataset: Compliance Checks\n",
    "\n",
    "* Canonical Dataset ID: **3qmf-vgdg**\n",
    "* Detail screen on the WSLCB Portal: https://data.lcb.wa.gov/dataset/Compliance-Checks-Dataset/auqz-2kjf\n",
    "* Detail screen on Socrata's Open Data Foundry: https://dev.socrata.com/foundry/data.lcb.wa.gov/3qmf-vgdg\n",
    "\n",
    "We'll be using the [`cannapy`](https://github.com/CannabisData/cannapy) library to access the portal data.  `cannapy` aims to provide an abstract interface for accessing and working with *Cannabis* data from around the world.  It utilizes [xmunoz](https://github.com/xmunoz)'s [`sodapy`](https://github.com/xmunoz/sodapy) client to access Socrata-based open data portals and can return data loaded into [Pandas DataFrames](https://pandas.pydata.org/pandas-docs/stable/generated/pandas.DataFrame.html)."
   ]
  },
  {
   "cell_type": "code",
   "execution_count": 1,
   "metadata": {},
   "outputs": [],
   "source": [
    "import time\n",
    "import cannapy.us.wa.wslcb.portal as wslcb\n",
    "import pandas as pd"
   ]
  },
  {
   "cell_type": "code",
   "execution_count": 2,
   "metadata": {},
   "outputs": [],
   "source": [
    "# Specify your own Socrata App Token if you plan to experiment\n",
    "app_token = 'XaB9MBqc81C3KT4Vps6Wh5LZt'\n",
    "\n",
    "# Instantiate a cannapy interface to the WSLCB open data portal\n",
    "portal = wslcb.WSLCBPortal(app_token)\n",
    "\n",
    "# We'll be using the Compliance Checks dataset\n",
    "dataset_id = '3qmf-vgdg'"
   ]
  },
  {
   "cell_type": "code",
   "execution_count": 3,
   "metadata": {},
   "outputs": [
    {
     "name": "stdout",
     "output_type": "stream",
     "text": [
      "Last updated: Thu Nov 16 10:54:59 2017\n"
     ]
    }
   ],
   "source": [
    "# Check when the dataset was last updated\n",
    "last_updated = portal.dataset_last_updated(dataset_id)\n",
    "print('Last updated: {}'.format(time.strftime('%c', last_updated)))"
   ]
  },
  {
   "cell_type": "code",
   "execution_count": 4,
   "metadata": {},
   "outputs": [
    {
     "data": {
      "text/html": [
       "<div>\n",
       "<style scoped>\n",
       "    .dataframe tbody tr th:only-of-type {\n",
       "        vertical-align: middle;\n",
       "    }\n",
       "\n",
       "    .dataframe tbody tr th {\n",
       "        vertical-align: top;\n",
       "    }\n",
       "\n",
       "    .dataframe thead th {\n",
       "        text-align: right;\n",
       "    }\n",
       "</style>\n",
       "<table border=\"1\" class=\"dataframe\">\n",
       "  <thead>\n",
       "    <tr style=\"text-align: right;\">\n",
       "      <th></th>\n",
       "      <th>date</th>\n",
       "      <th>license_number</th>\n",
       "      <th>county_name</th>\n",
       "      <th>city_name</th>\n",
       "      <th>action</th>\n",
       "    </tr>\n",
       "  </thead>\n",
       "  <tbody>\n",
       "    <tr>\n",
       "      <th>0</th>\n",
       "      <td>2017-06-09T00:00:00.000</td>\n",
       "      <td>420741</td>\n",
       "      <td>KING</td>\n",
       "      <td>BURIEN</td>\n",
       "      <td>Marijuana Compliance Check-no Sale</td>\n",
       "    </tr>\n",
       "    <tr>\n",
       "      <th>1</th>\n",
       "      <td>2017-05-25T00:00:00.000</td>\n",
       "      <td>420619</td>\n",
       "      <td>SNOHOMISH</td>\n",
       "      <td>UNINCORPORATED AREAS</td>\n",
       "      <td>Marijuana Compliance Check-no Sale</td>\n",
       "    </tr>\n",
       "    <tr>\n",
       "      <th>2</th>\n",
       "      <td>2017-06-08T00:00:00.000</td>\n",
       "      <td>414280</td>\n",
       "      <td>COWLITZ</td>\n",
       "      <td>UNINCORP. AREAS</td>\n",
       "      <td>Marijuana Compliance Check-no Sale</td>\n",
       "    </tr>\n",
       "    <tr>\n",
       "      <th>3</th>\n",
       "      <td>2017-06-12T00:00:00.000</td>\n",
       "      <td>353993</td>\n",
       "      <td>GRAYS HARBOR</td>\n",
       "      <td>HOQUIAM</td>\n",
       "      <td>Marijuana Compliance Check-no Sale</td>\n",
       "    </tr>\n",
       "    <tr>\n",
       "      <th>4</th>\n",
       "      <td>2017-06-13T00:00:00.000</td>\n",
       "      <td>419640</td>\n",
       "      <td>THURSTON</td>\n",
       "      <td>UNINCORPORATED AREAS</td>\n",
       "      <td>Marijuana Compliance Check-no Sale</td>\n",
       "    </tr>\n",
       "  </tbody>\n",
       "</table>\n",
       "</div>"
      ],
      "text/plain": [
       "                      date license_number   county_name             city_name  \\\n",
       "0  2017-06-09T00:00:00.000         420741          KING                BURIEN   \n",
       "1  2017-05-25T00:00:00.000         420619     SNOHOMISH  UNINCORPORATED AREAS   \n",
       "2  2017-06-08T00:00:00.000         414280       COWLITZ       UNINCORP. AREAS   \n",
       "3  2017-06-12T00:00:00.000         353993  GRAYS HARBOR               HOQUIAM   \n",
       "4  2017-06-13T00:00:00.000         419640      THURSTON  UNINCORPORATED AREAS   \n",
       "\n",
       "                               action  \n",
       "0  Marijuana Compliance Check-no Sale  \n",
       "1  Marijuana Compliance Check-no Sale  \n",
       "2  Marijuana Compliance Check-no Sale  \n",
       "3  Marijuana Compliance Check-no Sale  \n",
       "4  Marijuana Compliance Check-no Sale  "
      ]
     },
     "execution_count": 4,
     "metadata": {},
     "output_type": "execute_result"
    }
   ],
   "source": [
    "# Retrieve the dataset preloaded into a Pandas DataFrame\n",
    "df = portal.get_dataframe(dataset_id)\n",
    "\n",
    "# Validate we've got the right data by examining the first few rows\n",
    "df.head()"
   ]
  },
  {
   "cell_type": "code",
   "execution_count": 9,
   "metadata": {},
   "outputs": [],
   "source": [
    "# Looks like we need to combine the city name values for \"Unincorporated Areas\".\n",
    "df.replace(to_replace='UNINCORP. AREAS', value='UNINCORPORATED AREAS', inplace=True)"
   ]
  },
  {
   "cell_type": "code",
   "execution_count": 10,
   "metadata": {},
   "outputs": [
    {
     "data": {
      "text/plain": [
       "UNINCORPORATED AREAS    316\n",
       "SEATTLE                  91\n",
       "TACOMA                   53\n",
       "SPOKANE (CITY)           35\n",
       "VANCOUVER                26\n",
       "BELLINGHAM               24\n",
       "LONGVIEW                 23\n",
       "EVERETT                  19\n",
       "SHORELINE                16\n",
       "OLYMPIA                  15\n",
       "UNION GAP                14\n",
       "BELLEVUE                 12\n",
       "PORT ORCHARD             12\n",
       "ELLENSBURG               12\n",
       "YAKIMA                   10\n",
       "BREMERTON                 9\n",
       "EDMONDS                   9\n",
       "RENTON                    8\n",
       "BUCKLEY                   8\n",
       "WENATCHEE                 8\n",
       "MOUNT VERNON              8\n",
       "ABERDEEN                  8\n",
       "SPOKANE VALLEY            8\n",
       "LACEY                     7\n",
       "SEDRO WOOLLEY             7\n",
       "GOLD BAR                  7\n",
       "MOSES LAKE                7\n",
       "WALLA WALLA (CITY)        7\n",
       "ANACORTES                 6\n",
       "AUBURN                    6\n",
       "                       ... \n",
       "TENINO                    4\n",
       "PROSSER                   4\n",
       "FORKS                     4\n",
       "BLAINE                    4\n",
       "BURIEN                    4\n",
       "OCEAN SHORES              3\n",
       "DES MOINES                3\n",
       "LYNNWOOD                  3\n",
       "MARYSVILLE                3\n",
       "KENMORE                   3\n",
       "EPHRATA                   3\n",
       "ILWACO                    2\n",
       "GEORGE                    2\n",
       "BINGEN                    2\n",
       "CHENEY                    2\n",
       "COLVILLE                  2\n",
       "NORTH BONNEVILLE          2\n",
       "IONE                      2\n",
       "ROSLYN                    2\n",
       "EAST WENATCHEE            2\n",
       "RAYMOND                   2\n",
       "FIFE                      2\n",
       "SOUTH BEND                1\n",
       "MUKILTEO                  1\n",
       "GRAND COULEE              1\n",
       "GRANITE FALLS             1\n",
       "SNOHOMISH                 1\n",
       "WINTHROP                  1\n",
       "BOTHELL/SNOHOMISH         1\n",
       "GOLDENDALE                1\n",
       "Name: city_name, Length: 88, dtype: int64"
      ]
     },
     "execution_count": 10,
     "metadata": {},
     "output_type": "execute_result"
    }
   ],
   "source": [
    "# The DataFrame value_counts() histogramming method is useful for asking basic questions of any dataset\n",
    "# column/Series with consistent text values.\n",
    "\n",
    "# Question: How many compliance checks have been carried out in each city?\n",
    "df.city_name.value_counts()"
   ]
  },
  {
   "cell_type": "code",
   "execution_count": 6,
   "metadata": {},
   "outputs": [
    {
     "data": {
      "text/plain": [
       "KING            194\n",
       "SNOHOMISH       112\n",
       "PIERCE           90\n",
       "SPOKANE          72\n",
       "THURSTON         61\n",
       "WHATCOM          54\n",
       "KITSAP           48\n",
       "SKAGIT           34\n",
       "COWLITZ          33\n",
       "CLARK            32\n",
       "GRAYS HARBOR     30\n",
       "YAKIMA           26\n",
       "JEFFERSON        22\n",
       "CLALLAM          21\n",
       "KITTITAS         19\n",
       "ISLAND           16\n",
       "MASON            16\n",
       "GRANT            15\n",
       "CHELAN           14\n",
       "STEVENS          11\n",
       "WHITMAN           9\n",
       "OKANOGAN          9\n",
       "ADAMS             8\n",
       "PACIFIC           7\n",
       "BENTON            7\n",
       "WALLA WALLA       7\n",
       "DOUGLAS           5\n",
       "LEWIS             4\n",
       "ASOTIN            4\n",
       "KLICKITAT         4\n",
       "SAN JUAN          3\n",
       "PEND OREILLE      2\n",
       "SKAMANIA          2\n",
       "FERRY             1\n",
       "Name: county_name, dtype: int64"
      ]
     },
     "execution_count": 6,
     "metadata": {},
     "output_type": "execute_result"
    }
   ],
   "source": [
    "# Question: How many compliance checks have been carried out in each county?\n",
    "df.county_name.value_counts()"
   ]
  },
  {
   "cell_type": "code",
   "execution_count": 7,
   "metadata": {
    "scrolled": true
   },
   "outputs": [
    {
     "data": {
      "text/plain": [
       "Marijuana Compliance Check-no Sale    931\n",
       "Marijuana Compliance Check-Sale        69\n",
       "Name: action, dtype: int64"
      ]
     },
     "execution_count": 7,
     "metadata": {},
     "output_type": "execute_result"
    }
   ],
   "source": [
    "# Question: What are the types and quantities of actions taken?\n",
    "df.action.value_counts()"
   ]
  },
  {
   "cell_type": "code",
   "execution_count": 8,
   "metadata": {},
   "outputs": [
    {
     "data": {
      "text/plain": [
       "414733    7\n",
       "414812    6\n",
       "415658    6\n",
       "425273    6\n",
       "413358    6\n",
       "417880    5\n",
       "084045    5\n",
       "414569    5\n",
       "421409    5\n",
       "414495    5\n",
       "414280    5\n",
       "412466    5\n",
       "415523    5\n",
       "414449    5\n",
       "421789    5\n",
       "421709    5\n",
       "413314    5\n",
       "420793    5\n",
       "413544    5\n",
       "413773    5\n",
       "423413    5\n",
       "415567    5\n",
       "413374    5\n",
       "410798    5\n",
       "415410    5\n",
       "415333    5\n",
       "415325    5\n",
       "415303    4\n",
       "415132    4\n",
       "415484    4\n",
       "         ..\n",
       "422380    1\n",
       "417646    1\n",
       "420338    1\n",
       "414356    1\n",
       "086219    1\n",
       "422010    1\n",
       "413558    1\n",
       "415124    1\n",
       "414750    1\n",
       "079720    1\n",
       "415641    1\n",
       "422414    1\n",
       "414500    1\n",
       "422572    1\n",
       "365856    1\n",
       "080184    1\n",
       "415216    1\n",
       "424848    1\n",
       "415425    1\n",
       "414959    1\n",
       "415314    1\n",
       "422796    1\n",
       "421910    1\n",
       "421900    1\n",
       "420278    1\n",
       "416248    1\n",
       "423542    1\n",
       "413529    1\n",
       "422900    1\n",
       "412495    1\n",
       "Name: license_number, Length: 426, dtype: int64"
      ]
     },
     "execution_count": 8,
     "metadata": {},
     "output_type": "execute_result"
    }
   ],
   "source": [
    "# Question: How many actions have been taken per licensee?\n",
    "df.license_number.value_counts()"
   ]
  }
 ],
 "metadata": {
  "kernelspec": {
   "display_name": "Python 3",
   "language": "python",
   "name": "python3"
  },
  "language_info": {
   "codemirror_mode": {
    "name": "ipython",
    "version": 3
   },
   "file_extension": ".py",
   "mimetype": "text/x-python",
   "name": "python",
   "nbconvert_exporter": "python",
   "pygments_lexer": "ipython3",
   "version": "3.6.3"
  }
 },
 "nbformat": 4,
 "nbformat_minor": 2
}
