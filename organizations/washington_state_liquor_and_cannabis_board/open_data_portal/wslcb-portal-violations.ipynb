{
 "cells": [
  {
   "cell_type": "markdown",
   "metadata": {},
   "source": [
    "## Washington State Liquor and Cannabis Board (WSLCB) Open Data Portal\n",
    "\n",
    "*For an introduction to the WSLCB, [see the README in the parent directory](../README.md).*\n",
    "\n",
    "*For an introduction to the WSLCB's Socrata-based Open Data Portal, [see the README in this directory](./README.md).*\n",
    "\n",
    "### Dataset: Violations\n",
    "\n",
    "* Canonical Dataset ID: **dgm4-3cm6**\n",
    "* Detail screen on the WSLCB Portal: https://data.lcb.wa.gov/dataset/Violations-Dataset/dx3i-tzh2\n",
    "* Detail screen on Socrata's Open Data Foundry: https://dev.socrata.com/foundry/data.lcb.wa.gov/dgm4-3cm6\n",
    "\n",
    "We'll be using the [`cannapy`](https://github.com/CannabisData/cannapy) library to access the portal data.  `cannapy` aims to provide an abstract interface for accessing and working with *Cannabis* data from around the world.  It utilizes [xmunoz](https://github.com/xmunoz)'s [`sodapy`](https://github.com/xmunoz/sodapy) client to access Socrata-based open data portals and can return data loaded into [Pandas DataFrames](https://pandas.pydata.org/pandas-docs/stable/generated/pandas.DataFrame.html)."
   ]
  },
  {
   "cell_type": "code",
   "execution_count": 6,
   "metadata": {},
   "outputs": [],
   "source": [
    "import time\n",
    "import cannapy.us.wa.wslcb.portal as wslcb\n",
    "import pandas as pd"
   ]
  },
  {
   "cell_type": "code",
   "execution_count": 7,
   "metadata": {},
   "outputs": [],
   "source": [
    "# Specify your own Socrata App Token if you plan to experiment\n",
    "app_token = 'XaB9MBqc81C3KT4Vps6Wh5LZt'\n",
    "\n",
    "# Instantiate a cannapy interface to the WSLCB open data portal\n",
    "portal = wslcb.WSLCBPortal(app_token)\n",
    "\n",
    "# We'll be using the Violations dataset\n",
    "dataset_id = 'dgm4-3cm6'"
   ]
  },
  {
   "cell_type": "code",
   "execution_count": 8,
   "metadata": {},
   "outputs": [
    {
     "name": "stdout",
     "output_type": "stream",
     "text": [
      "Last updated: Thu Nov 16 10:54:40 2017\n"
     ]
    }
   ],
   "source": [
    "# Check when the dataset was last updated\n",
    "last_updated = portal.dataset_last_updated(dataset_id)\n",
    "print('Last updated: {}'.format(time.strftime('%c', last_updated)))"
   ]
  },
  {
   "cell_type": "code",
   "execution_count": 9,
   "metadata": {},
   "outputs": [
    {
     "data": {
      "text/html": [
       "<div>\n",
       "<style scoped>\n",
       "    .dataframe tbody tr th:only-of-type {\n",
       "        vertical-align: middle;\n",
       "    }\n",
       "\n",
       "    .dataframe tbody tr th {\n",
       "        vertical-align: top;\n",
       "    }\n",
       "\n",
       "    .dataframe thead th {\n",
       "        text-align: right;\n",
       "    }\n",
       "</style>\n",
       "<table border=\"1\" class=\"dataframe\">\n",
       "  <thead>\n",
       "    <tr style=\"text-align: right;\">\n",
       "      <th></th>\n",
       "      <th>visit_date</th>\n",
       "      <th>license_number</th>\n",
       "      <th>county_name</th>\n",
       "      <th>city_name</th>\n",
       "      <th>case</th>\n",
       "      <th>penalty_type</th>\n",
       "      <th>violation_code</th>\n",
       "      <th>wac_code</th>\n",
       "    </tr>\n",
       "  </thead>\n",
       "  <tbody>\n",
       "    <tr>\n",
       "      <th>0</th>\n",
       "      <td>2016-10-28T00:00:00.000</td>\n",
       "      <td>412199</td>\n",
       "      <td>SPOKANE</td>\n",
       "      <td>UNINCORPORATED AREAS</td>\n",
       "      <td>7N6302A</td>\n",
       "      <td>Written Warning</td>\n",
       "      <td>NaN</td>\n",
       "      <td>314.55.020</td>\n",
       "    </tr>\n",
       "    <tr>\n",
       "      <th>1</th>\n",
       "      <td>2017-01-25T00:00:00.000</td>\n",
       "      <td>416619</td>\n",
       "      <td>ISLAND</td>\n",
       "      <td>UNINCORPORATED AREAS</td>\n",
       "      <td>7I7025B</td>\n",
       "      <td>Written Warning</td>\n",
       "      <td>NaN</td>\n",
       "      <td>314.55.017</td>\n",
       "    </tr>\n",
       "    <tr>\n",
       "      <th>2</th>\n",
       "      <td>2017-01-11T00:00:00.000</td>\n",
       "      <td>421490</td>\n",
       "      <td>THURSTON</td>\n",
       "      <td>UNINCORPORATED AREAS</td>\n",
       "      <td>1C7011A</td>\n",
       "      <td>Written Warning</td>\n",
       "      <td>NaN</td>\n",
       "      <td>314.55.083(3)</td>\n",
       "    </tr>\n",
       "    <tr>\n",
       "      <th>3</th>\n",
       "      <td>2015-09-10T00:00:00.000</td>\n",
       "      <td>417379</td>\n",
       "      <td>BENTON</td>\n",
       "      <td>UNINCORP. AREAS</td>\n",
       "      <td>7O5253B</td>\n",
       "      <td>Written Warning</td>\n",
       "      <td>NaN</td>\n",
       "      <td>314.55.083(4)</td>\n",
       "    </tr>\n",
       "    <tr>\n",
       "      <th>4</th>\n",
       "      <td>2015-05-04T00:00:00.000</td>\n",
       "      <td>413570</td>\n",
       "      <td>KING</td>\n",
       "      <td>SEATTLE</td>\n",
       "      <td>2A5124A</td>\n",
       "      <td>Written Warning</td>\n",
       "      <td>NaN</td>\n",
       "      <td>314.55.155</td>\n",
       "    </tr>\n",
       "  </tbody>\n",
       "</table>\n",
       "</div>"
      ],
      "text/plain": [
       "                visit_date license_number county_name             city_name  \\\n",
       "0  2016-10-28T00:00:00.000         412199     SPOKANE  UNINCORPORATED AREAS   \n",
       "1  2017-01-25T00:00:00.000         416619      ISLAND  UNINCORPORATED AREAS   \n",
       "2  2017-01-11T00:00:00.000         421490    THURSTON  UNINCORPORATED AREAS   \n",
       "3  2015-09-10T00:00:00.000         417379      BENTON       UNINCORP. AREAS   \n",
       "4  2015-05-04T00:00:00.000         413570        KING               SEATTLE   \n",
       "\n",
       "      case     penalty_type  violation_code       wac_code  \n",
       "0  7N6302A  Written Warning             NaN     314.55.020  \n",
       "1  7I7025B  Written Warning             NaN     314.55.017  \n",
       "2  1C7011A  Written Warning             NaN  314.55.083(3)  \n",
       "3  7O5253B  Written Warning             NaN  314.55.083(4)  \n",
       "4  2A5124A  Written Warning             NaN     314.55.155  "
      ]
     },
     "execution_count": 9,
     "metadata": {},
     "output_type": "execute_result"
    }
   ],
   "source": [
    "# Retrieve the dataset preloaded into a Pandas DataFrame\n",
    "df = portal.get_dataframe(dataset_id)\n",
    "\n",
    "# Validate we've got the right data by examining the first few rows\n",
    "df.head()"
   ]
  },
  {
   "cell_type": "code",
   "execution_count": 10,
   "metadata": {},
   "outputs": [],
   "source": [
    "# Looks like we need to combine the city name values for \"Unincorporated Areas\".\n",
    "df.replace(to_replace='UNINCORP. AREAS', value='UNINCORPORATED AREAS', inplace=True)"
   ]
  },
  {
   "cell_type": "code",
   "execution_count": 11,
   "metadata": {},
   "outputs": [
    {
     "data": {
      "text/plain": [
       "UNINCORPORATED AREAS    478\n",
       "SEATTLE                 110\n",
       "TACOMA                   46\n",
       "SPOKANE (CITY)           32\n",
       "ARLINGTON                25\n",
       "MOXEE                    24\n",
       "SPOKANE VALLEY           20\n",
       "BELLINGHAM               20\n",
       "VANCOUVER                16\n",
       "BELLEVUE                 14\n",
       "EVERETT                  12\n",
       "UNION GAP                 9\n",
       "ELLENSBURG                9\n",
       "WENATCHEE                 9\n",
       "LACEY                     9\n",
       "RAYMOND                   9\n",
       "KIRKLAND                  7\n",
       "LONGVIEW                  6\n",
       "RENTON                    6\n",
       "AUBURN                    6\n",
       "AIRWAY HEIGHTS            6\n",
       "KELSO                     6\n",
       "MOSES LAKE                5\n",
       "OAK HARBOR                5\n",
       "OLYMPIA                   5\n",
       "GOLD BAR                  5\n",
       "TUMWATER                  5\n",
       "LAKE STEVENS              5\n",
       "ANACORTES                 4\n",
       "MOUNT VERNON              4\n",
       "                       ... \n",
       "BURIEN                    2\n",
       "EAST WENATCHEE            2\n",
       "SEDRO WOOLLEY             2\n",
       "WOODLAND                  2\n",
       "MOUNTLAKE TERRACE         2\n",
       "FERNDALE                  2\n",
       "CHEHALIS                  2\n",
       "DAVENPORT                 1\n",
       "PULLMAN                   1\n",
       "BATTLE GROUND             1\n",
       "BINGEN                    1\n",
       "KENMORE                   1\n",
       "WALLA WALLA (CITY)        1\n",
       "COVINGTON                 1\n",
       "SULTAN                    1\n",
       "ISSAQUAH                  1\n",
       "FRIDAY HARBOR             1\n",
       "EDMONDS                   1\n",
       "SHELTON                   1\n",
       "WINTHROP                  1\n",
       "YAKIMA                    1\n",
       "CLARKSTON                 1\n",
       "LATAH                     1\n",
       "FORKS                     1\n",
       "LAKE FOREST PARK          1\n",
       "OCEAN SHORES              1\n",
       "REDMOND                   1\n",
       "MILLWOOD                  1\n",
       "FEDERAL WAY               1\n",
       "LYMAN                     1\n",
       "Name: city_name, Length: 74, dtype: int64"
      ]
     },
     "execution_count": 11,
     "metadata": {},
     "output_type": "execute_result"
    }
   ],
   "source": [
    "# The DataFrame value_counts() histogramming method is useful for asking basic questions of any dataset\n",
    "# column/Series with consistent text values.\n",
    "\n",
    "# Question: How many violations have been documented in each city?\n",
    "df.city_name.value_counts()"
   ]
  },
  {
   "cell_type": "code",
   "execution_count": 12,
   "metadata": {},
   "outputs": [
    {
     "data": {
      "text/plain": [
       "KING            173\n",
       "SNOHOMISH       119\n",
       "SPOKANE         113\n",
       "PIERCE           58\n",
       "YAKIMA           46\n",
       "CHELAN           44\n",
       "BENTON           44\n",
       "WHATCOM          42\n",
       "THURSTON         40\n",
       "OKANOGAN         35\n",
       "STEVENS          34\n",
       "SKAGIT           25\n",
       "MASON            23\n",
       "CLARK            22\n",
       "KITTITAS         21\n",
       "KITSAP           19\n",
       "COWLITZ          18\n",
       "GRANT            15\n",
       "CLALLAM          14\n",
       "JEFFERSON        13\n",
       "PACIFIC          12\n",
       "GRAYS HARBOR     12\n",
       "SAN JUAN          9\n",
       "ISLAND            8\n",
       "LINCOLN           8\n",
       "DOUGLAS           7\n",
       "WHITMAN           5\n",
       "FERRY             4\n",
       "KLICKITAT         4\n",
       "WAHKIAKUM         3\n",
       "FRANKLIN          3\n",
       "LEWIS             2\n",
       "ADAMS             2\n",
       "WALLA WALLA       2\n",
       "ASOTIN            1\n",
       "Name: county_name, dtype: int64"
      ]
     },
     "execution_count": 12,
     "metadata": {},
     "output_type": "execute_result"
    }
   ],
   "source": [
    "# Question: How many violations have been documented in each county?\n",
    "df.county_name.value_counts()"
   ]
  },
  {
   "cell_type": "code",
   "execution_count": 13,
   "metadata": {},
   "outputs": [
    {
     "data": {
      "text/plain": [
       "413718    8\n",
       "416183    8\n",
       "412069    8\n",
       "414958    8\n",
       "412784    7\n",
       "414723    7\n",
       "412672    7\n",
       "414785    7\n",
       "412149    7\n",
       "415325    6\n",
       "413558    6\n",
       "416968    5\n",
       "416458    5\n",
       "414755    5\n",
       "417174    5\n",
       "413719    5\n",
       "413773    5\n",
       "412969    5\n",
       "417125    5\n",
       "421667    5\n",
       "413287    5\n",
       "417643    5\n",
       "413319    5\n",
       "415812    5\n",
       "415726    5\n",
       "416627    5\n",
       "416539    5\n",
       "413426    5\n",
       "414495    4\n",
       "415984    4\n",
       "         ..\n",
       "413215    1\n",
       "412959    1\n",
       "416893    1\n",
       "412544    1\n",
       "423380    1\n",
       "423390    1\n",
       "412240    1\n",
       "412603    1\n",
       "423000    1\n",
       "412949    1\n",
       "415889    1\n",
       "412347    1\n",
       "417206    1\n",
       "413150    1\n",
       "413090    1\n",
       "415183    1\n",
       "417155    1\n",
       "413922    1\n",
       "413819    1\n",
       "416155    1\n",
       "415674    1\n",
       "416235    1\n",
       "417053    1\n",
       "420894    1\n",
       "415998    1\n",
       "413131    1\n",
       "415665    1\n",
       "412208    1\n",
       "417586    1\n",
       "413659    1\n",
       "Name: license_number, Length: 530, dtype: int64"
      ]
     },
     "execution_count": 13,
     "metadata": {},
     "output_type": "execute_result"
    }
   ],
   "source": [
    "# Question: How many violations have been documented per licensee?\n",
    "df.license_number.value_counts()"
   ]
  },
  {
   "cell_type": "code",
   "execution_count": 17,
   "metadata": {},
   "outputs": [
    {
     "data": {
      "text/plain": [
       "Series([], Name: violation_code, dtype: int64)"
      ]
     },
     "execution_count": 17,
     "metadata": {},
     "output_type": "execute_result"
    }
   ],
   "source": [
    "# Question: What are the types and quantities of violation codes?\n",
    "# It looks like this column/field is not currently used or populated in the dataset.\n",
    "df.violation_code.value_counts()"
   ]
  },
  {
   "cell_type": "code",
   "execution_count": 18,
   "metadata": {},
   "outputs": [
    {
     "data": {
      "text/plain": [
       "314.55.083(4)       240\n",
       "314.55.083(3)       145\n",
       "69.50.357            81\n",
       "314.55.155           69\n",
       "314.55.079           57\n",
       "314.55.020           41\n",
       "314.55.085           37\n",
       "314.55.089           35\n",
       "314.55.087           33\n",
       "314.55.083(1)        28\n",
       "314.55.155(1)        25\n",
       "314.55.035           22\n",
       "314.55.105           19\n",
       "314.55.084           19\n",
       "314.55.092           17\n",
       "314.55.050           16\n",
       "69.50.401            14\n",
       "314.55.097           14\n",
       "314.55.155(2)        11\n",
       "314.55.104            7\n",
       "314.55.083(5)         7\n",
       "314.55.083(6)         6\n",
       "314.55.086            5\n",
       "314.55.120            5\n",
       "314.55.099            5\n",
       "314.55.082            5\n",
       "314.55.096            4\n",
       "69.50.535             3\n",
       "314.55.018            3\n",
       "314.55.087(1)(f)      3\n",
       "314.55.017            3\n",
       "314.55.079(6)         3\n",
       "314.55.075            2\n",
       "69.50.369             2\n",
       "69.50.328             2\n",
       "69.50.4015            1\n",
       "314.55.110            1\n",
       "314.55.135            1\n",
       "66.44.310(1)(a)       1\n",
       "314.55.106            1\n",
       "314.55.083            1\n",
       "314.55.077            1\n",
       "314.55.075(1)         1\n",
       "314.55.083(2)         1\n",
       "314.55.015(7)         1\n",
       "314.55.155(4)         1\n",
       "314.02.020            1\n",
       "Name: wac_code, dtype: int64"
      ]
     },
     "execution_count": 18,
     "metadata": {},
     "output_type": "execute_result"
    }
   ],
   "source": [
    "# Question: What are the types and quantities of Washington Administrative Code (WAC) citations?\n",
    "df.wac_code.value_counts()"
   ]
  },
  {
   "cell_type": "code",
   "execution_count": 16,
   "metadata": {
    "scrolled": true
   },
   "outputs": [
    {
     "data": {
      "text/plain": [
       "AVN                540\n",
       "Written Warning    460\n",
       "Name: penalty_type, dtype: int64"
      ]
     },
     "execution_count": 16,
     "metadata": {},
     "output_type": "execute_result"
    }
   ],
   "source": [
    "# Question: What are the types and quantities of penalties?\n",
    "df.penalty_type.value_counts()"
   ]
  },
  {
   "cell_type": "code",
   "execution_count": null,
   "metadata": {},
   "outputs": [],
   "source": []
  }
 ],
 "metadata": {
  "kernelspec": {
   "display_name": "Python 3",
   "language": "python",
   "name": "python3"
  },
  "language_info": {
   "codemirror_mode": {
    "name": "ipython",
    "version": 3
   },
   "file_extension": ".py",
   "mimetype": "text/x-python",
   "name": "python",
   "nbconvert_exporter": "python",
   "pygments_lexer": "ipython3",
   "version": "3.6.3"
  }
 },
 "nbformat": 4,
 "nbformat_minor": 2
}
